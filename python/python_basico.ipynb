{
  "nbformat": 4,
  "nbformat_minor": 0,
  "metadata": {
    "colab": {
      "provenance": [],
      "include_colab_link": true
    },
    "kernelspec": {
      "name": "python3",
      "display_name": "Python 3"
    },
    "language_info": {
      "name": "python"
    }
  },
  "cells": [
    {
      "cell_type": "markdown",
      "metadata": {
        "id": "view-in-github",
        "colab_type": "text"
      },
      "source": [
        "<a href=\"https://colab.research.google.com/github/ijecampos/HIGI/blob/main/python/python_basico.ipynb\" target=\"_parent\"><img src=\"https://colab.research.google.com/assets/colab-badge.svg\" alt=\"Open In Colab\"/></a>"
      ]
    },
    {
      "cell_type": "code",
      "execution_count": 1,
      "metadata": {
        "id": "0wMYJ2NJlTSB"
      },
      "outputs": [],
      "source": [
        "#Típicamente en las primeras celdas se importan las librerias que se utilizarán en el cuaderno. \n",
        "import os\n",
        "import numpy as np \n",
        "import matplotlib.pyplot as plt\n",
        "import math as math"
      ]
    },
    {
      "cell_type": "markdown",
      "source": [
        "# Este cuaderno de colab, similar a un cuaderno de jupyter, es una introducción a programación en python."
      ],
      "metadata": {
        "id": "IFjKFL8Rmbgw"
      }
    },
    {
      "cell_type": "code",
      "source": [
        "#Esta es una celda de calculo con un comentario"
      ],
      "metadata": {
        "id": "cEOlx5uWl0gx"
      },
      "execution_count": 2,
      "outputs": []
    },
    {
      "cell_type": "markdown",
      "source": [
        "Esta es una celda de texto"
      ],
      "metadata": {
        "id": "204oM67wxMYL"
      }
    },
    {
      "cell_type": "markdown",
      "source": [
        "El uso mas simple de python es como una calculadora."
      ],
      "metadata": {
        "id": "1D-wqm7lm2E2"
      }
    },
    {
      "cell_type": "code",
      "source": [
        "2+2"
      ],
      "metadata": {
        "colab": {
          "base_uri": "https://localhost:8080/"
        },
        "id": "6d_vwE-zmNUt",
        "outputId": "5495b913-ddec-4bf8-8987-7a25aeea1ba1"
      },
      "execution_count": 3,
      "outputs": [
        {
          "output_type": "execute_result",
          "data": {
            "text/plain": [
              "4"
            ]
          },
          "metadata": {},
          "execution_count": 3
        }
      ]
    },
    {
      "cell_type": "code",
      "source": [
        "4*10"
      ],
      "metadata": {
        "colab": {
          "base_uri": "https://localhost:8080/"
        },
        "id": "dko7p8qAmXbC",
        "outputId": "4e95e123-c79a-424a-fb69-d801ad08490f"
      },
      "execution_count": 4,
      "outputs": [
        {
          "output_type": "execute_result",
          "data": {
            "text/plain": [
              "40"
            ]
          },
          "metadata": {},
          "execution_count": 4
        }
      ]
    },
    {
      "cell_type": "code",
      "source": [
        "5*25+5"
      ],
      "metadata": {
        "colab": {
          "base_uri": "https://localhost:8080/"
        },
        "id": "8hNr552Nm65N",
        "outputId": "f3878da6-e3c3-49b4-af35-227311ed1a77"
      },
      "execution_count": 5,
      "outputs": [
        {
          "output_type": "execute_result",
          "data": {
            "text/plain": [
              "130"
            ]
          },
          "metadata": {},
          "execution_count": 5
        }
      ]
    },
    {
      "cell_type": "markdown",
      "source": [
        "Cómo en cualquier calculadora, y lenguaje de programación, es importante considerar la jerarquía de operaciones. "
      ],
      "metadata": {
        "id": "VvnOrgZjnF7z"
      }
    },
    {
      "cell_type": "code",
      "source": [
        "5*(25+5)"
      ],
      "metadata": {
        "colab": {
          "base_uri": "https://localhost:8080/"
        },
        "id": "2PNjc39km85W",
        "outputId": "2c687dfe-2f75-4177-bab7-c12d8f0ebf30"
      },
      "execution_count": 6,
      "outputs": [
        {
          "output_type": "execute_result",
          "data": {
            "text/plain": [
              "150"
            ]
          },
          "metadata": {},
          "execution_count": 6
        }
      ]
    },
    {
      "cell_type": "code",
      "source": [
        "-2**2"
      ],
      "metadata": {
        "colab": {
          "base_uri": "https://localhost:8080/"
        },
        "id": "Nv2O4qC3nATf",
        "outputId": "b35f0463-7bb2-4daf-ab11-bfdb1d629ce1"
      },
      "execution_count": 7,
      "outputs": [
        {
          "output_type": "execute_result",
          "data": {
            "text/plain": [
              "-4"
            ]
          },
          "metadata": {},
          "execution_count": 7
        }
      ]
    },
    {
      "cell_type": "code",
      "source": [
        "(-2)**2"
      ],
      "metadata": {
        "colab": {
          "base_uri": "https://localhost:8080/"
        },
        "id": "Lu95B487nO0I",
        "outputId": "b2ec969c-53bb-4c61-dd3e-cd30b4fc4573"
      },
      "execution_count": 8,
      "outputs": [
        {
          "output_type": "execute_result",
          "data": {
            "text/plain": [
              "4"
            ]
          },
          "metadata": {},
          "execution_count": 8
        }
      ]
    },
    {
      "cell_type": "code",
      "source": [
        "#Si realizas operaciones con numeros escalares, no arreglos o vectores, entonces puedes utilizar la libreria math. "
      ],
      "metadata": {
        "id": "ASdpLt30oLGE"
      },
      "execution_count": 9,
      "outputs": []
    },
    {
      "cell_type": "code",
      "source": [
        "math.exp(math.log(1))"
      ],
      "metadata": {
        "colab": {
          "base_uri": "https://localhost:8080/"
        },
        "id": "HlVfbgO_nR4S",
        "outputId": "f7edbc3a-d467-4be6-d8d0-a363375d0789"
      },
      "execution_count": 10,
      "outputs": [
        {
          "output_type": "execute_result",
          "data": {
            "text/plain": [
              "1.0"
            ]
          },
          "metadata": {},
          "execution_count": 10
        }
      ]
    },
    {
      "cell_type": "code",
      "source": [
        "math.cos(math.pi)"
      ],
      "metadata": {
        "colab": {
          "base_uri": "https://localhost:8080/"
        },
        "id": "MeGzBhJioGCU",
        "outputId": "1cad91a4-8706-4c08-b8ab-89c61577627c"
      },
      "execution_count": 11,
      "outputs": [
        {
          "output_type": "execute_result",
          "data": {
            "text/plain": [
              "-1.0"
            ]
          },
          "metadata": {},
          "execution_count": 11
        }
      ]
    },
    {
      "cell_type": "code",
      "source": [],
      "metadata": {
        "id": "xceKxoC7ohDb"
      },
      "execution_count": null,
      "outputs": []
    },
    {
      "cell_type": "markdown",
      "source": [
        "A diferencia de otros lenguajes de programación, la declaración de variables se puede hacer en cualquier celda, y solo se requiere asignar un valor a una variable para que ésta quede definida."
      ],
      "metadata": {
        "id": "MGSh1V5dosr2"
      }
    },
    {
      "cell_type": "code",
      "source": [
        "a=5\n",
        "b=3\n",
        "c=a*b\n",
        "print(c)"
      ],
      "metadata": {
        "colab": {
          "base_uri": "https://localhost:8080/"
        },
        "id": "mj1ijLAyo6Ca",
        "outputId": "43874381-792e-497b-af1f-7463d2dc5fed"
      },
      "execution_count": 12,
      "outputs": [
        {
          "output_type": "stream",
          "name": "stdout",
          "text": [
            "15\n"
          ]
        }
      ]
    },
    {
      "cell_type": "code",
      "source": [
        "#verifiquemos el tipo de variable que se definió\n",
        "type(a),type(b),type(c)"
      ],
      "metadata": {
        "colab": {
          "base_uri": "https://localhost:8080/"
        },
        "id": "jNQtQZd2o-jH",
        "outputId": "7798e513-d365-4e95-e6b0-6e8b3e49b7b6"
      },
      "execution_count": 13,
      "outputs": [
        {
          "output_type": "execute_result",
          "data": {
            "text/plain": [
              "(int, int, int)"
            ]
          },
          "metadata": {},
          "execution_count": 13
        }
      ]
    },
    {
      "cell_type": "code",
      "source": [
        "#Si, uno de los numeros es flotante, la operación resultante será flotante\n",
        "\n",
        "a=5.\n",
        "b=3\n",
        "c=a*b\n",
        "type(a),type(b),type(c)"
      ],
      "metadata": {
        "colab": {
          "base_uri": "https://localhost:8080/"
        },
        "id": "6b_tosdbo-8n",
        "outputId": "9b4d3eef-d9ea-4a72-c509-d72c5e0843e7"
      },
      "execution_count": 14,
      "outputs": [
        {
          "output_type": "execute_result",
          "data": {
            "text/plain": [
              "(float, int, float)"
            ]
          },
          "metadata": {},
          "execution_count": 14
        }
      ]
    },
    {
      "cell_type": "code",
      "source": [
        "#La división siempre devuelve un flotante\n",
        "a=5\n",
        "b=3\n",
        "c=a/b\n",
        "type(a),type(b),type(c)"
      ],
      "metadata": {
        "colab": {
          "base_uri": "https://localhost:8080/"
        },
        "id": "Yr6MaMz1pWi7",
        "outputId": "7bef4567-b866-40d2-e7a2-410e0916e59c"
      },
      "execution_count": 15,
      "outputs": [
        {
          "output_type": "execute_result",
          "data": {
            "text/plain": [
              "(int, int, float)"
            ]
          },
          "metadata": {},
          "execution_count": 15
        }
      ]
    },
    {
      "cell_type": "code",
      "source": [
        "a//b #división descartando la parte fraccional"
      ],
      "metadata": {
        "colab": {
          "base_uri": "https://localhost:8080/"
        },
        "id": "RFj_lkr4qsZa",
        "outputId": "ec6ea726-5b41-4a85-ea12-b1e8f1b98206"
      },
      "execution_count": 16,
      "outputs": [
        {
          "output_type": "execute_result",
          "data": {
            "text/plain": [
              "1"
            ]
          },
          "metadata": {},
          "execution_count": 16
        }
      ]
    },
    {
      "cell_type": "code",
      "source": [
        "8%3 # El operador % regresa el restante de la división"
      ],
      "metadata": {
        "colab": {
          "base_uri": "https://localhost:8080/"
        },
        "id": "y95fqNqLq2zx",
        "outputId": "f3cb5e0e-7bb1-49f6-b59c-48380c7caa4a"
      },
      "execution_count": 17,
      "outputs": [
        {
          "output_type": "execute_result",
          "data": {
            "text/plain": [
              "2"
            ]
          },
          "metadata": {},
          "execution_count": 17
        }
      ]
    },
    {
      "cell_type": "code",
      "source": [
        "#cuando una variable no está definida e intentamos usarla, nos arroja un error que dice que \"la variable no está definida\"\n",
        "n"
      ],
      "metadata": {
        "colab": {
          "base_uri": "https://localhost:8080/",
          "height": 186
        },
        "id": "qc5yrgvKujqN",
        "outputId": "d70c4760-6c26-420b-cac1-57be07dbe396"
      },
      "execution_count": 18,
      "outputs": [
        {
          "output_type": "error",
          "ename": "NameError",
          "evalue": "ignored",
          "traceback": [
            "\u001b[0;31m---------------------------------------------------------------------------\u001b[0m",
            "\u001b[0;31mNameError\u001b[0m                                 Traceback (most recent call last)",
            "\u001b[0;32m<ipython-input-18-5bca04af08ee>\u001b[0m in \u001b[0;36m<module>\u001b[0;34m\u001b[0m\n\u001b[1;32m      1\u001b[0m \u001b[0;31m#cuando una variable no está definida e intentamos usarla, nos arroja un error que dice que \"la variable no está definida\"\u001b[0m\u001b[0;34m\u001b[0m\u001b[0;34m\u001b[0m\u001b[0;34m\u001b[0m\u001b[0m\n\u001b[0;32m----> 2\u001b[0;31m \u001b[0mn\u001b[0m\u001b[0;34m\u001b[0m\u001b[0;34m\u001b[0m\u001b[0m\n\u001b[0m",
            "\u001b[0;31mNameError\u001b[0m: name 'n' is not defined"
          ]
        }
      ]
    },
    {
      "cell_type": "markdown",
      "source": [
        "# Listas"
      ],
      "metadata": {
        "id": "Y81mp8mAxBtI"
      }
    },
    {
      "cell_type": "markdown",
      "source": [
        "Las listas pueden contener elementos de diferentes tipos, aunque tipicamente contienen elementos del mismo tipo"
      ],
      "metadata": {
        "id": "PopsWx0oxUSy"
      }
    },
    {
      "cell_type": "code",
      "source": [
        "mixta= [1,'texto', 3.0,math.pi]"
      ],
      "metadata": {
        "id": "QDtBRBn3xyY-"
      },
      "execution_count": 29,
      "outputs": []
    },
    {
      "cell_type": "code",
      "source": [
        "cuadrados= [1, 4, 9, 16, 25]"
      ],
      "metadata": {
        "id": "ablOw3TDxk8e"
      },
      "execution_count": 30,
      "outputs": []
    },
    {
      "cell_type": "code",
      "source": [
        "#Podemos acceder a cada elemento con su indice, los indices inician en cero. \n",
        "print(cuadrados[0])\n",
        "print(cuadrados[4])\n",
        "print(cuadrados[-2],cuadrados[3]) "
      ],
      "metadata": {
        "colab": {
          "base_uri": "https://localhost:8080/"
        },
        "id": "-PqeM1dMx4If",
        "outputId": "fba77051-abd6-46da-a55e-e394844bcab7"
      },
      "execution_count": 21,
      "outputs": [
        {
          "output_type": "stream",
          "name": "stdout",
          "text": [
            "1\n",
            "25\n",
            "16 16\n"
          ]
        }
      ]
    },
    {
      "cell_type": "code",
      "source": [
        "#Dos cadenas pueden concatenarse\n",
        "cuadrados + [36, 49, 64, 81, 100]"
      ],
      "metadata": {
        "colab": {
          "base_uri": "https://localhost:8080/"
        },
        "id": "aXneZGNTyVyd",
        "outputId": "aab072e5-657c-422c-b5f6-198c0365233b"
      },
      "execution_count": 31,
      "outputs": [
        {
          "output_type": "execute_result",
          "data": {
            "text/plain": [
              "[1, 4, 9, 16, 25, 36, 49, 64, 81, 100]"
            ]
          },
          "metadata": {},
          "execution_count": 31
        }
      ]
    },
    {
      "cell_type": "code",
      "source": [
        "#Podemos modificar cada elemento de la lista de forma independiente\n",
        "cubos = [1, 8, 27, 65, 125]\n",
        "cubos[3]=4**3\n",
        "cubos "
      ],
      "metadata": {
        "colab": {
          "base_uri": "https://localhost:8080/"
        },
        "id": "ca0OnzNiyBhe",
        "outputId": "95083699-08b8-4378-a1b8-30505f18089f"
      },
      "execution_count": 23,
      "outputs": [
        {
          "output_type": "execute_result",
          "data": {
            "text/plain": [
              "[1, 8, 27, 64, 125]"
            ]
          },
          "metadata": {},
          "execution_count": 23
        }
      ]
    },
    {
      "cell_type": "code",
      "source": [
        "#Podemos añadir nuevos elementos a la lista\n",
        "cubos.append(6**3)\n",
        "cubos"
      ],
      "metadata": {
        "colab": {
          "base_uri": "https://localhost:8080/"
        },
        "id": "DyOV7nDkyv4U",
        "outputId": "d5fd27ac-ce53-4f07-abba-30ac69768392"
      },
      "execution_count": 24,
      "outputs": [
        {
          "output_type": "execute_result",
          "data": {
            "text/plain": [
              "[1, 8, 27, 64, 125, 216]"
            ]
          },
          "metadata": {},
          "execution_count": 24
        }
      ]
    },
    {
      "cell_type": "code",
      "source": [
        "#Podemos accesar y/o modificar la lista por secciones \n",
        "letras = ['a', 'b', 'c', 'd', 'e', 'f', 'g']\n",
        "letras\n"
      ],
      "metadata": {
        "colab": {
          "base_uri": "https://localhost:8080/"
        },
        "id": "JbGYSMEty8QR",
        "outputId": "92ccea72-1c84-492a-d300-7cf306ea759d"
      },
      "execution_count": 25,
      "outputs": [
        {
          "output_type": "execute_result",
          "data": {
            "text/plain": [
              "['a', 'b', 'c', 'd', 'e', 'f', 'g']"
            ]
          },
          "metadata": {},
          "execution_count": 25
        }
      ]
    },
    {
      "cell_type": "code",
      "source": [
        "letras[2:5] = ['C', 'D', 'E']\n",
        "letras"
      ],
      "metadata": {
        "colab": {
          "base_uri": "https://localhost:8080/"
        },
        "id": "uqdib-Z3zJgv",
        "outputId": "bc63fee3-91ba-4cf2-e415-8462ff796427"
      },
      "execution_count": 26,
      "outputs": [
        {
          "output_type": "execute_result",
          "data": {
            "text/plain": [
              "['a', 'b', 'C', 'D', 'E', 'f', 'g']"
            ]
          },
          "metadata": {},
          "execution_count": 26
        }
      ]
    },
    {
      "cell_type": "code",
      "source": [
        "#¿Cuantos elementos tiene la lista?\n",
        "len(letras)"
      ],
      "metadata": {
        "colab": {
          "base_uri": "https://localhost:8080/"
        },
        "id": "RRDuSGUMzPiN",
        "outputId": "7ea04efe-c838-4e31-aef6-7f5dfde066eb"
      },
      "execution_count": 27,
      "outputs": [
        {
          "output_type": "execute_result",
          "data": {
            "text/plain": [
              "7"
            ]
          },
          "metadata": {},
          "execution_count": 27
        }
      ]
    },
    {
      "cell_type": "code",
      "source": [
        "#Es posible tener listas que contienen otras listas\n",
        "lista=[cuadrados,cubos]\n",
        "lista"
      ],
      "metadata": {
        "colab": {
          "base_uri": "https://localhost:8080/"
        },
        "id": "d8X4PJwOzWpQ",
        "outputId": "b970596d-2052-42c0-f579-db8d06c7099d"
      },
      "execution_count": 28,
      "outputs": [
        {
          "output_type": "execute_result",
          "data": {
            "text/plain": [
              "[[1, 4, 9, 16, 25], [1, 8, 27, 64, 125, 216]]"
            ]
          },
          "metadata": {},
          "execution_count": 28
        }
      ]
    },
    {
      "cell_type": "code",
      "source": [],
      "metadata": {
        "id": "FkYtn8-1zhAS"
      },
      "execution_count": 28,
      "outputs": []
    },
    {
      "cell_type": "markdown",
      "source": [
        "# Funciones de Control"
      ],
      "metadata": {
        "id": "at6U19ABzt-t"
      }
    },
    {
      "cell_type": "markdown",
      "source": [
        "### Ciclo While"
      ],
      "metadata": {
        "id": "EZUGrStb0cQN"
      }
    },
    {
      "cell_type": "code",
      "source": [
        "a, b = 0, 1\n",
        "while a < 10:\n",
        "  print('a=',a,'b=',b)\n",
        "  a, b = b, a+b"
      ],
      "metadata": {
        "colab": {
          "base_uri": "https://localhost:8080/"
        },
        "id": "jOlRiYykz57y",
        "outputId": "bcc6cf10-8f38-4dbb-f88c-9996225d45b2"
      },
      "execution_count": 32,
      "outputs": [
        {
          "output_type": "stream",
          "name": "stdout",
          "text": [
            "a= 0 b= 1\n",
            "a= 1 b= 1\n",
            "a= 1 b= 2\n",
            "a= 2 b= 3\n",
            "a= 3 b= 5\n",
            "a= 5 b= 8\n",
            "a= 8 b= 13\n"
          ]
        }
      ]
    },
    {
      "cell_type": "code",
      "source": [
        "#Otra forma de imprimir los valores de a y b\n",
        "a, b = 0, 1\n",
        "while a < 10:\n",
        "  print(f'a={a} b={b}')\n",
        "  a, b = b, a+b"
      ],
      "metadata": {
        "colab": {
          "base_uri": "https://localhost:8080/"
        },
        "id": "KH8UFdBv0AE0",
        "outputId": "1f22e12b-a936-4158-f337-625e2d23847e"
      },
      "execution_count": 33,
      "outputs": [
        {
          "output_type": "stream",
          "name": "stdout",
          "text": [
            "a=0 b=1\n",
            "a=1 b=1\n",
            "a=1 b=2\n",
            "a=2 b=3\n",
            "a=3 b=5\n",
            "a=5 b=8\n",
            "a=8 b=13\n"
          ]
        }
      ]
    },
    {
      "cell_type": "markdown",
      "source": [
        "### Ciclo for"
      ],
      "metadata": {
        "id": "wERzS_f41Fym"
      }
    },
    {
      "cell_type": "code",
      "source": [
        "words = ['gato', 'ventana', 'entusiasmo']\n",
        "for w in words:\n",
        "  print(w, len(w))"
      ],
      "metadata": {
        "colab": {
          "base_uri": "https://localhost:8080/"
        },
        "id": "FmEol0nj0SV4",
        "outputId": "bcfefb85-d607-445c-97db-7a1d3c24a618"
      },
      "execution_count": 36,
      "outputs": [
        {
          "output_type": "stream",
          "name": "stdout",
          "text": [
            "gato 4\n",
            "ventana 7\n",
            "entusiasmo 10\n"
          ]
        }
      ]
    },
    {
      "cell_type": "code",
      "source": [
        "for i in range(5):\n",
        "  print(i)"
      ],
      "metadata": {
        "colab": {
          "base_uri": "https://localhost:8080/"
        },
        "id": "iik3AgHy8kqM",
        "outputId": "a4353f95-7e9e-4202-f916-2f43078d0297"
      },
      "execution_count": 35,
      "outputs": [
        {
          "output_type": "stream",
          "name": "stdout",
          "text": [
            "0\n",
            "1\n",
            "2\n",
            "3\n",
            "4\n"
          ]
        }
      ]
    },
    {
      "cell_type": "code",
      "source": [
        "for i in range(len(words)):\n",
        "  print(i,words[i])"
      ],
      "metadata": {
        "colab": {
          "base_uri": "https://localhost:8080/"
        },
        "id": "4hB4bAEa8qS9",
        "outputId": "9631698c-3153-469b-fd5a-311d3ee53623"
      },
      "execution_count": 37,
      "outputs": [
        {
          "output_type": "stream",
          "name": "stdout",
          "text": [
            "0 gato\n",
            "1 ventana\n",
            "2 entusiasmo\n"
          ]
        }
      ]
    },
    {
      "cell_type": "code",
      "source": [
        "for i,w in enumerate(words):\n",
        "    print(i,w)"
      ],
      "metadata": {
        "colab": {
          "base_uri": "https://localhost:8080/"
        },
        "id": "7eGW4G2u2rPh",
        "outputId": "ec6ed4ba-f1b4-4d49-a861-25db2f4a2b55"
      },
      "execution_count": 42,
      "outputs": [
        {
          "output_type": "stream",
          "name": "stdout",
          "text": [
            "0 gato\n",
            "1 ventana\n",
            "2 entusiasmo\n"
          ]
        }
      ]
    },
    {
      "cell_type": "markdown",
      "source": [],
      "metadata": {
        "id": "uJfO9g5k8ofr"
      }
    },
    {
      "cell_type": "markdown",
      "source": [
        "## Condicional if, else"
      ],
      "metadata": {
        "id": "pJswVyXG3HOe"
      }
    },
    {
      "cell_type": "code",
      "source": [
        "x = -34\n",
        "\n",
        "if x < 0:\n",
        "  x = 0\n",
        "  print('Numero negativo cambiado a cero')\n",
        "elif x == 0:\n",
        "  print('cero')\n",
        "elif x == 1:\n",
        "  print('Uno')\n",
        "else:\n",
        "    print('numero positivo')\n"
      ],
      "metadata": {
        "colab": {
          "base_uri": "https://localhost:8080/"
        },
        "id": "oGKLsbZy7xEv",
        "outputId": "c0073d0f-197d-48c8-b093-a65ccc09718f"
      },
      "execution_count": 43,
      "outputs": [
        {
          "output_type": "stream",
          "name": "stdout",
          "text": [
            "Numero negativo cambiado a cero\n"
          ]
        }
      ]
    },
    {
      "cell_type": "code",
      "source": [
        "#Para este ejemplo crearemos un diccionario \n",
        "alumnos = {'Alma': 'activa', 'Juan': 'inactivo', 'Pedro': 'activa'}\n",
        "for alumno, estatus in alumnos.copy().items():\n",
        "    if estatus == 'inactivo':\n",
        "        del alumnos[alumno]"
      ],
      "metadata": {
        "id": "8qBdbjSW1Ogt"
      },
      "execution_count": 48,
      "outputs": []
    },
    {
      "cell_type": "code",
      "source": [
        "alumnos"
      ],
      "metadata": {
        "colab": {
          "base_uri": "https://localhost:8080/"
        },
        "id": "akQV-Zan2JXL",
        "outputId": "a195a700-8e7f-4e43-90da-5114c84eb3ae"
      },
      "execution_count": 45,
      "outputs": [
        {
          "output_type": "execute_result",
          "data": {
            "text/plain": [
              "{'Alma': 'activa', 'Pedro': 'activa'}"
            ]
          },
          "metadata": {},
          "execution_count": 45
        }
      ]
    },
    {
      "cell_type": "code",
      "source": [
        "for n in range(2, 10):\n",
        "  for x in range(2, n):\n",
        "    if n % x == 0:\n",
        "      print(n, 'es igual a ', x, '*', n//x)\n",
        "      break\n",
        "  else:         #Este else corresponde al ciclo for, no al if... es una forma de decir lo que se debe hacer cuando se rompe el ciclo... \n",
        "    print(n, 'es primo')\n",
        "     "
      ],
      "metadata": {
        "colab": {
          "base_uri": "https://localhost:8080/"
        },
        "id": "5tvua9uF2Np6",
        "outputId": "a667ea8e-ce28-46c2-c342-6b5a1758be66"
      },
      "execution_count": 49,
      "outputs": [
        {
          "output_type": "stream",
          "name": "stdout",
          "text": [
            "2 es primo\n",
            "3 es primo\n",
            "4 es igual a  2 * 2\n",
            "5 es primo\n",
            "6 es igual a  2 * 3\n",
            "7 es primo\n",
            "8 es igual a  2 * 4\n",
            "9 es igual a  3 * 3\n"
          ]
        }
      ]
    },
    {
      "cell_type": "code",
      "source": [
        "for num in range(2, 10):\n",
        "  if num % 2 == 0:\n",
        "    print(f\"{num} es par\")\n",
        "    continue\n",
        "    \n",
        "  print(f\"{num} es impar\")"
      ],
      "metadata": {
        "colab": {
          "base_uri": "https://localhost:8080/"
        },
        "id": "nCarBNQQ9VhU",
        "outputId": "944a26ea-f54c-4da7-dba1-d2c8a4e35bf6"
      },
      "execution_count": 50,
      "outputs": [
        {
          "output_type": "stream",
          "name": "stdout",
          "text": [
            "2 es par\n",
            "3 es impar\n",
            "4 es par\n",
            "5 es impar\n",
            "6 es par\n",
            "7 es impar\n",
            "8 es par\n",
            "9 es impar\n"
          ]
        }
      ]
    },
    {
      "cell_type": "code",
      "source": [],
      "metadata": {
        "id": "08LrMlNW-whG"
      },
      "execution_count": 47,
      "outputs": []
    },
    {
      "cell_type": "markdown",
      "source": [
        "# Defininendo  Funciones"
      ],
      "metadata": {
        "id": "5Xs0d_x7_e1E"
      }
    },
    {
      "cell_type": "code",
      "source": [
        "def fib(n):    # write Fibonacci series up to n\n",
        "  \"\"\"Print a Fibonacci series up to n.\"\"\"\n",
        "  a, b = 0, 1\n",
        "  while a < n:\n",
        "    print(a, end=' ') #el argumento end previene que haya un cambio de linea. \n",
        "    a, b = b, a+b"
      ],
      "metadata": {
        "id": "dfd9JCDx_h-z"
      },
      "execution_count": 51,
      "outputs": []
    },
    {
      "cell_type": "code",
      "source": [
        "fib100=fib(10)"
      ],
      "metadata": {
        "id": "Tj3AT62eAdHQ",
        "outputId": "52745ab4-6e61-4df7-fba7-1b0a7239bee6",
        "colab": {
          "base_uri": "https://localhost:8080/"
        }
      },
      "execution_count": 52,
      "outputs": [
        {
          "output_type": "stream",
          "name": "stdout",
          "text": [
            "0 1 1 2 3 5 8 "
          ]
        }
      ]
    },
    {
      "cell_type": "code",
      "source": [
        "print(fib100)"
      ],
      "metadata": {
        "id": "6jytQqJPB7cD",
        "outputId": "591d833f-9ec4-4956-8f62-08fcbe566ea1",
        "colab": {
          "base_uri": "https://localhost:8080/"
        }
      },
      "execution_count": 53,
      "outputs": [
        {
          "output_type": "stream",
          "name": "stdout",
          "text": [
            "None\n"
          ]
        }
      ]
    },
    {
      "cell_type": "code",
      "source": [
        "#La misma función pero ahora regresando una lista con el resultado\n",
        "def fib2(n):  # return Fibonacci series up to n\n",
        "  \"\"\"Return a list containing the Fibonacci series up to n.\"\"\"\n",
        "  result = []\n",
        "  a, b = 0, 1\n",
        "  while a < n:\n",
        "    result.append(a)    # see below\n",
        "    a, b = b, a+b\n",
        " \n",
        "  return result"
      ],
      "metadata": {
        "id": "BcNXTemOAsXV"
      },
      "execution_count": 54,
      "outputs": []
    },
    {
      "cell_type": "code",
      "source": [
        "fib100=fib2(100)"
      ],
      "metadata": {
        "id": "-lX9BEp1BqxK"
      },
      "execution_count": 55,
      "outputs": []
    },
    {
      "cell_type": "code",
      "source": [
        "fib100"
      ],
      "metadata": {
        "id": "EjJbJJpTBvJs",
        "outputId": "f950ed61-9c9e-4606-ea92-429de23d49c2",
        "colab": {
          "base_uri": "https://localhost:8080/"
        }
      },
      "execution_count": 56,
      "outputs": [
        {
          "output_type": "execute_result",
          "data": {
            "text/plain": [
              "[0, 1, 1, 2, 3, 5, 8, 13, 21, 34, 55, 89]"
            ]
          },
          "metadata": {},
          "execution_count": 56
        }
      ]
    },
    {
      "cell_type": "code",
      "source": [
        "#funcion con 3 argumentos de entrada y dos de salida. \n",
        "def raices(a,b,c):\n",
        "  raiz=math.sqrt(b**2-4*a*c)\n",
        "  return (-b+raiz)/2,(-b-raiz)/2\n",
        "\n",
        "#Función con 3 argumentos de entrada, uno de ellos opcional ya que tiene un valor por defecto, y dos argumentos de salida\n",
        "def raices2(b,c,a=1):\n",
        "  raiz=math.sqrt(b**2-4*a*c)\n",
        "  return (-b+raiz)/2,(-b-raiz)/2\n",
        "  "
      ],
      "metadata": {
        "id": "A7JSeQTHB4T5"
      },
      "execution_count": 57,
      "outputs": []
    },
    {
      "cell_type": "code",
      "source": [
        "\n",
        "raices(1,0,-25)"
      ],
      "metadata": {
        "id": "yWMW2PJiCiUC",
        "outputId": "e49ecdfe-216d-4637-a76d-7b94fc8c2721",
        "colab": {
          "base_uri": "https://localhost:8080/"
        }
      },
      "execution_count": 58,
      "outputs": [
        {
          "output_type": "execute_result",
          "data": {
            "text/plain": [
              "(5.0, -5.0)"
            ]
          },
          "metadata": {},
          "execution_count": 58
        }
      ]
    },
    {
      "cell_type": "code",
      "source": [
        "\n",
        "raices2(0,-25)"
      ],
      "metadata": {
        "id": "eNqNhBFyCr8f",
        "outputId": "4e8d4837-f88e-48f6-d082-87999d18d886",
        "colab": {
          "base_uri": "https://localhost:8080/"
        }
      },
      "execution_count": 59,
      "outputs": [
        {
          "output_type": "execute_result",
          "data": {
            "text/plain": [
              "(5.0, -5.0)"
            ]
          },
          "metadata": {},
          "execution_count": 59
        }
      ]
    },
    {
      "cell_type": "code",
      "source": [],
      "metadata": {
        "id": "kR7SZhNbDevc"
      },
      "execution_count": null,
      "outputs": []
    },
    {
      "cell_type": "markdown",
      "source": [
        "# Arreglos de Numpy\n",
        "(ver https://numpy.org/doc/stable/user/quickstart.html)"
      ],
      "metadata": {
        "id": "UpkenvPgEl5F"
      }
    },
    {
      "cell_type": "code",
      "source": [
        "a = np.arange(15)\n",
        "a"
      ],
      "metadata": {
        "id": "5jmgb8-lEofX",
        "outputId": "f6a7da56-9643-428e-8c5f-f413718949f1",
        "colab": {
          "base_uri": "https://localhost:8080/"
        }
      },
      "execution_count": 60,
      "outputs": [
        {
          "output_type": "execute_result",
          "data": {
            "text/plain": [
              "array([ 0,  1,  2,  3,  4,  5,  6,  7,  8,  9, 10, 11, 12, 13, 14])"
            ]
          },
          "metadata": {},
          "execution_count": 60
        }
      ]
    },
    {
      "cell_type": "code",
      "source": [
        "print(a.shape,a.ndim,a.dtype.name,a.size)"
      ],
      "metadata": {
        "id": "5Mzm5QeBEyOX",
        "outputId": "bc5ac936-a2e5-41c4-e40d-25893f75c517",
        "colab": {
          "base_uri": "https://localhost:8080/"
        }
      },
      "execution_count": 61,
      "outputs": [
        {
          "output_type": "stream",
          "name": "stdout",
          "text": [
            "(15,) 1 int64 15\n"
          ]
        }
      ]
    },
    {
      "cell_type": "code",
      "source": [
        "a = np.arange(15).reshape(3, 5)\n",
        "a"
      ],
      "metadata": {
        "id": "-ewFtt1uEpGZ",
        "outputId": "ea4f3726-ffe9-4add-ae66-f0052d6812b7",
        "colab": {
          "base_uri": "https://localhost:8080/"
        }
      },
      "execution_count": 62,
      "outputs": [
        {
          "output_type": "execute_result",
          "data": {
            "text/plain": [
              "array([[ 0,  1,  2,  3,  4],\n",
              "       [ 5,  6,  7,  8,  9],\n",
              "       [10, 11, 12, 13, 14]])"
            ]
          },
          "metadata": {},
          "execution_count": 62
        }
      ]
    },
    {
      "cell_type": "code",
      "source": [
        "print(a.shape,a.ndim,a.dtype.name,a.size)"
      ],
      "metadata": {
        "id": "ttks61tAEuYD",
        "outputId": "38ac8a0f-b9aa-4e1e-b4e7-986bd71a2513",
        "colab": {
          "base_uri": "https://localhost:8080/"
        }
      },
      "execution_count": 63,
      "outputs": [
        {
          "output_type": "stream",
          "name": "stdout",
          "text": [
            "(3, 5) 2 int64 15\n"
          ]
        }
      ]
    },
    {
      "cell_type": "code",
      "source": [
        "type(a)"
      ],
      "metadata": {
        "id": "fs7jloPDE-XE",
        "outputId": "9e2c6ea3-cb49-4340-a72b-d8037626243e",
        "colab": {
          "base_uri": "https://localhost:8080/"
        }
      },
      "execution_count": 64,
      "outputs": [
        {
          "output_type": "execute_result",
          "data": {
            "text/plain": [
              "numpy.ndarray"
            ]
          },
          "metadata": {},
          "execution_count": 64
        }
      ]
    },
    {
      "cell_type": "code",
      "source": [
        "a = np.array([2, 3, 4])\n",
        "b = np.array([1.2, 3.5, 5.1])"
      ],
      "metadata": {
        "id": "G_A7X8GSFesG"
      },
      "execution_count": 65,
      "outputs": []
    },
    {
      "cell_type": "code",
      "source": [
        "a"
      ],
      "metadata": {
        "id": "LSMhtIZsFriC",
        "outputId": "2a380b26-ac49-4c2c-9e13-72dce0f8e0d1",
        "colab": {
          "base_uri": "https://localhost:8080/"
        }
      },
      "execution_count": 66,
      "outputs": [
        {
          "output_type": "execute_result",
          "data": {
            "text/plain": [
              "array([2, 3, 4])"
            ]
          },
          "metadata": {},
          "execution_count": 66
        }
      ]
    },
    {
      "cell_type": "code",
      "source": [
        "b"
      ],
      "metadata": {
        "id": "K87yRvMuFr2R",
        "outputId": "84fe8bfc-e1c3-4550-c906-5d768f5ac991",
        "colab": {
          "base_uri": "https://localhost:8080/"
        }
      },
      "execution_count": 67,
      "outputs": [
        {
          "output_type": "execute_result",
          "data": {
            "text/plain": [
              "array([1.2, 3.5, 5.1])"
            ]
          },
          "metadata": {},
          "execution_count": 67
        }
      ]
    },
    {
      "cell_type": "code",
      "source": [
        "a = np.array(1, 2, 3, 4)"
      ],
      "metadata": {
        "id": "wwrdmudpFsZO",
        "outputId": "c8c19df0-510d-407f-e2a5-13a1aa673daa",
        "colab": {
          "base_uri": "https://localhost:8080/",
          "height": 168
        }
      },
      "execution_count": 68,
      "outputs": [
        {
          "output_type": "error",
          "ename": "TypeError",
          "evalue": "ignored",
          "traceback": [
            "\u001b[0;31m---------------------------------------------------------------------------\u001b[0m",
            "\u001b[0;31mTypeError\u001b[0m                                 Traceback (most recent call last)",
            "\u001b[0;32m<ipython-input-68-03417382e2d0>\u001b[0m in \u001b[0;36m<module>\u001b[0;34m\u001b[0m\n\u001b[0;32m----> 1\u001b[0;31m \u001b[0ma\u001b[0m \u001b[0;34m=\u001b[0m \u001b[0mnp\u001b[0m\u001b[0;34m.\u001b[0m\u001b[0marray\u001b[0m\u001b[0;34m(\u001b[0m\u001b[0;36m1\u001b[0m\u001b[0;34m,\u001b[0m \u001b[0;36m2\u001b[0m\u001b[0;34m,\u001b[0m \u001b[0;36m3\u001b[0m\u001b[0;34m,\u001b[0m \u001b[0;36m4\u001b[0m\u001b[0;34m)\u001b[0m\u001b[0;34m\u001b[0m\u001b[0;34m\u001b[0m\u001b[0m\n\u001b[0m",
            "\u001b[0;31mTypeError\u001b[0m: array() takes from 1 to 2 positional arguments but 4 were given"
          ]
        }
      ]
    },
    {
      "cell_type": "code",
      "source": [
        "a = np.array([1, 2, 3, 4]) "
      ],
      "metadata": {
        "id": "rfd_m881Fxjs"
      },
      "execution_count": 69,
      "outputs": []
    },
    {
      "cell_type": "code",
      "source": [
        "c = np.array([[1, 2], [3, 4]], dtype=complex)"
      ],
      "metadata": {
        "id": "RyP5rHjjF12m"
      },
      "execution_count": 70,
      "outputs": []
    },
    {
      "cell_type": "code",
      "source": [
        "c"
      ],
      "metadata": {
        "id": "_IRzaI5tF683",
        "outputId": "78adad2e-b8e9-4909-c136-1c56c022f1d9",
        "colab": {
          "base_uri": "https://localhost:8080/"
        }
      },
      "execution_count": 71,
      "outputs": [
        {
          "output_type": "execute_result",
          "data": {
            "text/plain": [
              "array([[1.+0.j, 2.+0.j],\n",
              "       [3.+0.j, 4.+0.j]])"
            ]
          },
          "metadata": {},
          "execution_count": 71
        }
      ]
    },
    {
      "cell_type": "code",
      "source": [
        "np.zeros((3, 4))"
      ],
      "metadata": {
        "id": "27DdIeRLGCuo",
        "outputId": "2a838d0e-fbfb-4e79-d559-12b93eb6fbd1",
        "colab": {
          "base_uri": "https://localhost:8080/"
        }
      },
      "execution_count": 72,
      "outputs": [
        {
          "output_type": "execute_result",
          "data": {
            "text/plain": [
              "array([[0., 0., 0., 0.],\n",
              "       [0., 0., 0., 0.],\n",
              "       [0., 0., 0., 0.]])"
            ]
          },
          "metadata": {},
          "execution_count": 72
        }
      ]
    },
    {
      "cell_type": "code",
      "source": [
        "np.ones((2, 3, 4), dtype=np.int16)"
      ],
      "metadata": {
        "id": "sO9CiLP1GF_F",
        "outputId": "09d39a8b-642b-47a7-f9dc-22623edf3500",
        "colab": {
          "base_uri": "https://localhost:8080/"
        }
      },
      "execution_count": 73,
      "outputs": [
        {
          "output_type": "execute_result",
          "data": {
            "text/plain": [
              "array([[[1, 1, 1, 1],\n",
              "        [1, 1, 1, 1],\n",
              "        [1, 1, 1, 1]],\n",
              "\n",
              "       [[1, 1, 1, 1],\n",
              "        [1, 1, 1, 1],\n",
              "        [1, 1, 1, 1]]], dtype=int16)"
            ]
          },
          "metadata": {},
          "execution_count": 73
        }
      ]
    },
    {
      "cell_type": "code",
      "source": [
        "np.empty((2, 3)) "
      ],
      "metadata": {
        "id": "WLPXIj6zGIhV",
        "outputId": "8427132e-b170-493f-d034-3e75a154274d",
        "colab": {
          "base_uri": "https://localhost:8080/"
        }
      },
      "execution_count": 74,
      "outputs": [
        {
          "output_type": "execute_result",
          "data": {
            "text/plain": [
              "array([[1.63960783e-316, 0.00000000e+000, 0.00000000e+000],\n",
              "       [0.00000000e+000, 0.00000000e+000, 0.00000000e+000]])"
            ]
          },
          "metadata": {},
          "execution_count": 74
        }
      ]
    },
    {
      "cell_type": "code",
      "source": [
        "np.linspace(0, 10, num=5)"
      ],
      "metadata": {
        "id": "segodBIPG2Jn",
        "outputId": "4c97abad-d2ee-4961-8a31-564ceda91cc5",
        "colab": {
          "base_uri": "https://localhost:8080/"
        }
      },
      "execution_count": 75,
      "outputs": [
        {
          "output_type": "execute_result",
          "data": {
            "text/plain": [
              "array([ 0. ,  2.5,  5. ,  7.5, 10. ])"
            ]
          },
          "metadata": {},
          "execution_count": 75
        }
      ]
    },
    {
      "cell_type": "code",
      "source": [
        "np.arange(0,10, 2)"
      ],
      "metadata": {
        "id": "jXLhwbXoHFO3",
        "outputId": "71e006f3-77b5-41a6-da82-f3559926ed6b",
        "colab": {
          "base_uri": "https://localhost:8080/"
        }
      },
      "execution_count": 76,
      "outputs": [
        {
          "output_type": "execute_result",
          "data": {
            "text/plain": [
              "array([0, 2, 4, 6, 8])"
            ]
          },
          "metadata": {},
          "execution_count": 76
        }
      ]
    },
    {
      "cell_type": "code",
      "source": [
        "arr=np.linspace(0, 10, num=5)\n",
        "np.sort(arr)"
      ],
      "metadata": {
        "id": "2fbgToCbHKWq",
        "outputId": "94c9f228-6aef-42f3-cee0-70a45fc9fbb8",
        "colab": {
          "base_uri": "https://localhost:8080/"
        }
      },
      "execution_count": 77,
      "outputs": [
        {
          "output_type": "execute_result",
          "data": {
            "text/plain": [
              "array([ 0. ,  2.5,  5. ,  7.5, 10. ])"
            ]
          },
          "metadata": {},
          "execution_count": 77
        }
      ]
    },
    {
      "cell_type": "code",
      "source": [
        "a = np.array([1, 2, 3, 4])\n",
        "b = np.array([5, 6, 7, 8])"
      ],
      "metadata": {
        "id": "MTgEN5oJHXe4"
      },
      "execution_count": 78,
      "outputs": []
    },
    {
      "cell_type": "code",
      "source": [
        "a"
      ],
      "metadata": {
        "id": "cE4D2vunHn-b",
        "outputId": "1c75a519-e8f5-4fad-d935-dbe10325ac2e",
        "colab": {
          "base_uri": "https://localhost:8080/"
        }
      },
      "execution_count": null,
      "outputs": [
        {
          "output_type": "execute_result",
          "data": {
            "text/plain": [
              "array([1, 2, 3, 4])"
            ]
          },
          "metadata": {},
          "execution_count": 123
        }
      ]
    },
    {
      "cell_type": "code",
      "source": [
        "b\n"
      ],
      "metadata": {
        "id": "CmyIdtTLHopp",
        "outputId": "1a5a90a1-24ad-4b9c-989e-ccef944dc398",
        "colab": {
          "base_uri": "https://localhost:8080/"
        }
      },
      "execution_count": null,
      "outputs": [
        {
          "output_type": "execute_result",
          "data": {
            "text/plain": [
              "array([5, 6, 7, 8])"
            ]
          },
          "metadata": {},
          "execution_count": 124
        }
      ]
    },
    {
      "cell_type": "code",
      "source": [
        "np.concatenate((a,b), axis=0)"
      ],
      "metadata": {
        "id": "-PJbkFjoHpTe",
        "outputId": "ce4fd2b8-b3b3-4eab-b7e2-492226ce0c4c",
        "colab": {
          "base_uri": "https://localhost:8080/"
        }
      },
      "execution_count": 79,
      "outputs": [
        {
          "output_type": "execute_result",
          "data": {
            "text/plain": [
              "array([1, 2, 3, 4, 5, 6, 7, 8])"
            ]
          },
          "metadata": {},
          "execution_count": 79
        }
      ]
    },
    {
      "cell_type": "code",
      "source": [
        "x = np.array([[1, 2], [3, 4]])\n",
        "y = np.array([[5, 6]])\n",
        "np.concatenate((x,y), axis=0)"
      ],
      "metadata": {
        "id": "JcQwZILiHp62",
        "outputId": "a92ed580-6d02-4c83-eb4c-658a92760c3a",
        "colab": {
          "base_uri": "https://localhost:8080/"
        }
      },
      "execution_count": null,
      "outputs": [
        {
          "output_type": "execute_result",
          "data": {
            "text/plain": [
              "array([[1, 2],\n",
              "       [3, 4],\n",
              "       [5, 6]])"
            ]
          },
          "metadata": {},
          "execution_count": 127
        }
      ]
    },
    {
      "cell_type": "code",
      "source": [
        "l1 = lista = [3, 2]\n",
        "l2 = np.array([3, 2])"
      ],
      "metadata": {
        "id": "g985Do2nH0iO"
      },
      "execution_count": 85,
      "outputs": []
    },
    {
      "cell_type": "code",
      "source": [
        "l1*2"
      ],
      "metadata": {
        "id": "qOfW9cyuhoyt",
        "outputId": "a38db0c0-3c37-4376-fa84-0ccfd708326d",
        "colab": {
          "base_uri": "https://localhost:8080/"
        }
      },
      "execution_count": 86,
      "outputs": [
        {
          "output_type": "execute_result",
          "data": {
            "text/plain": [
              "[3, 2, 3, 2]"
            ]
          },
          "metadata": {},
          "execution_count": 86
        }
      ]
    },
    {
      "cell_type": "code",
      "source": [
        "data = np.load('line.npy')\n",
        "\n",
        "fig = plt.figure(figsize=(10, 7.5))\n",
        "ax  = fig.add_subplot(1, 1, 1)\n",
        "plt.close()"
      ],
      "metadata": {
        "id": "vCfqUjRFh5yt"
      },
      "execution_count": 170,
      "outputs": []
    },
    {
      "cell_type": "code",
      "source": [
        "x = data[0]\n",
        "y = data[1]\n",
        "err = data[2]"
      ],
      "metadata": {
        "id": "5IdehKOaj8kJ"
      },
      "execution_count": 132,
      "outputs": []
    },
    {
      "cell_type": "code",
      "source": [
        "ax.errorbar(x, y, yerr=err, fmt='o')\n",
        "fig"
      ],
      "metadata": {
        "id": "Ypf-QVYLkAjR",
        "outputId": "2c8c4cfb-6e8f-4481-e545-504af4e9e59f",
        "colab": {
          "base_uri": "https://localhost:8080/",
          "height": 456
        }
      },
      "execution_count": 171,
      "outputs": [
        {
          "output_type": "execute_result",
          "data": {
            "text/plain": [
              "<Figure size 720x540 with 1 Axes>"
            ],
            "image/png": "[encoded data removed]"
          },
          "metadata": {},
          "execution_count": 171
        }
      ]
    },
    {
      "cell_type": "code",
      "source": [
        "from scipy import stats"
      ],
      "metadata": {
        "id": "q4d1N22EkZbJ"
      },
      "execution_count": 134,
      "outputs": []
    },
    {
      "cell_type": "code",
      "source": [
        "slope, intercept, r_value, p_value, std_err = stats.linregress(x, y)"
      ],
      "metadata": {
        "id": "L6ICyo5XlDSD"
      },
      "execution_count": 135,
      "outputs": []
    },
    {
      "cell_type": "code",
      "source": [
        "u = np.linspace(0, 10, 20)\n",
        "v = intercept + slope*u"
      ],
      "metadata": {
        "id": "28J9dsEplMSi"
      },
      "execution_count": 172,
      "outputs": []
    },
    {
      "cell_type": "code",
      "source": [
        "ax.plot(u, v)\n",
        "fig"
      ],
      "metadata": {
        "id": "ZhkNvDt-nMjk",
        "outputId": "0a07c704-f744-48d5-f1e1-5fc50beff8a4",
        "colab": {
          "base_uri": "https://localhost:8080/",
          "height": 456
        }
      },
      "execution_count": 173,
      "outputs": [
        {
          "output_type": "execute_result",
          "data": {
            "text/plain": [
              "<Figure size 720x540 with 1 Axes>"
            ],
            "image/png": "[encoded data removed]"
          },
          "metadata": {},
          "execution_count": 173
        }
      ]
    },
    {
      "cell_type": "code",
      "source": [],
      "metadata": {
        "id": "x3zoawHsn_Z9"
      },
      "execution_count": 158,
      "outputs": []
    },
    {
      "cell_type": "code",
      "source": [
        "slope"
      ],
      "metadata": {
        "id": "fa_2QZrRpFj_",
        "outputId": "98d64707-b56b-4a2a-8d64-cac1edd41635",
        "colab": {
          "base_uri": "https://localhost:8080/"
        }
      },
      "execution_count": 123,
      "outputs": [
        {
          "output_type": "execute_result",
          "data": {
            "text/plain": [
              "-0.9581362220081964"
            ]
          },
          "metadata": {},
          "execution_count": 123
        }
      ]
    },
    {
      "cell_type": "code",
      "source": [
        "intercept"
      ],
      "metadata": {
        "id": "sfilmqnPpuRh",
        "outputId": "3e2eda46-61a2-409f-f733-db0029699a93",
        "colab": {
          "base_uri": "https://localhost:8080/"
        }
      },
      "execution_count": 124,
      "outputs": [
        {
          "output_type": "execute_result",
          "data": {
            "text/plain": [
              "4.27438427385528"
            ]
          },
          "metadata": {},
          "execution_count": 124
        }
      ]
    },
    {
      "cell_type": "code",
      "source": [
        "m_true = slope\n",
        "b_true = intercept\n"
      ],
      "metadata": {
        "id": "E60rNrxkp0Ci"
      },
      "execution_count": 174,
      "outputs": []
    },
    {
      "cell_type": "code",
      "source": [
        "x = np.linspace(0, 10, 20)\n",
        "y = "
      ],
      "metadata": {
        "id": "0oowMgLwxwtQ"
      },
      "execution_count": null,
      "outputs": []
    }
  ]
}